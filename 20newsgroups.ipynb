{
  "nbformat": 4,
  "nbformat_minor": 0,
  "metadata": {
    "colab": {
      "name": "20newsgroups.ipynb",
      "provenance": [],
      "collapsed_sections": []
    },
    "kernelspec": {
      "name": "python3",
      "display_name": "Python 3"
    },
    "accelerator": "GPU"
  },
  "cells": [
    {
      "cell_type": "markdown",
      "metadata": {
        "id": "OyiSWHGdyzXb",
        "colab_type": "text"
      },
      "source": [
        "#**Topics extraction from 20 NEWS GROUPS Data**"
      ]
    },
    {
      "cell_type": "code",
      "metadata": {
        "id": "hER9s86szPgo",
        "colab_type": "code",
        "colab": {}
      },
      "source": [
        "from sklearn.datasets import fetch_20newsgroups "
      ],
      "execution_count": 0,
      "outputs": []
    },
    {
      "cell_type": "code",
      "metadata": {
        "id": "Atjor4u-zoCW",
        "colab_type": "code",
        "colab": {
          "base_uri": "https://localhost:8080/",
          "height": 50
        },
        "outputId": "1cd1dee7-b559-4562-abb9-5dc50bf1ce23"
      },
      "source": [
        "groups = fetch_20newsgroups()"
      ],
      "execution_count": 3,
      "outputs": [
        {
          "output_type": "stream",
          "text": [
            "Downloading 20news dataset. This may take a few minutes.\n",
            "Downloading dataset from https://ndownloader.figshare.com/files/5975967 (14 MB)\n"
          ],
          "name": "stderr"
        }
      ]
    },
    {
      "cell_type": "markdown",
      "metadata": {
        "id": "90P4goPBz2mF",
        "colab_type": "text"
      },
      "source": [
        "##**Thinking about feature**"
      ]
    },
    {
      "cell_type": "code",
      "metadata": {
        "id": "2jIFlguiz7Kd",
        "colab_type": "code",
        "colab": {
          "base_uri": "https://localhost:8080/",
          "height": 34
        },
        "outputId": "dd8009c2-0c72-4482-a314-43b6a168ab6b"
      },
      "source": [
        "groups.keys()"
      ],
      "execution_count": 4,
      "outputs": [
        {
          "output_type": "execute_result",
          "data": {
            "text/plain": [
              "dict_keys(['data', 'filenames', 'target_names', 'target', 'DESCR'])"
            ]
          },
          "metadata": {
            "tags": []
          },
          "execution_count": 4
        }
      ]
    },
    {
      "cell_type": "code",
      "metadata": {
        "id": "SD6TyGfw0Y2D",
        "colab_type": "code",
        "colab": {
          "base_uri": "https://localhost:8080/",
          "height": 353
        },
        "outputId": "d7b47345-0a0e-41ce-bd55-dc0f60a78abe"
      },
      "source": [
        "groups['target_names']"
      ],
      "execution_count": 5,
      "outputs": [
        {
          "output_type": "execute_result",
          "data": {
            "text/plain": [
              "['alt.atheism',\n",
              " 'comp.graphics',\n",
              " 'comp.os.ms-windows.misc',\n",
              " 'comp.sys.ibm.pc.hardware',\n",
              " 'comp.sys.mac.hardware',\n",
              " 'comp.windows.x',\n",
              " 'misc.forsale',\n",
              " 'rec.autos',\n",
              " 'rec.motorcycles',\n",
              " 'rec.sport.baseball',\n",
              " 'rec.sport.hockey',\n",
              " 'sci.crypt',\n",
              " 'sci.electronics',\n",
              " 'sci.med',\n",
              " 'sci.space',\n",
              " 'soc.religion.christian',\n",
              " 'talk.politics.guns',\n",
              " 'talk.politics.mideast',\n",
              " 'talk.politics.misc',\n",
              " 'talk.religion.misc']"
            ]
          },
          "metadata": {
            "tags": []
          },
          "execution_count": 5
        }
      ]
    },
    {
      "cell_type": "code",
      "metadata": {
        "id": "KDDtNGWI0hF6",
        "colab_type": "code",
        "colab": {
          "base_uri": "https://localhost:8080/",
          "height": 34
        },
        "outputId": "40ae6063-bab4-42e7-ce39-0d87cf2b9d80"
      },
      "source": [
        "groups.target"
      ],
      "execution_count": 6,
      "outputs": [
        {
          "output_type": "execute_result",
          "data": {
            "text/plain": [
              "array([7, 4, 4, ..., 3, 1, 8])"
            ]
          },
          "metadata": {
            "tags": []
          },
          "execution_count": 6
        }
      ]
    },
    {
      "cell_type": "code",
      "metadata": {
        "id": "z3zcz9Sb0k0k",
        "colab_type": "code",
        "colab": {}
      },
      "source": [
        "import numpy as np"
      ],
      "execution_count": 0,
      "outputs": []
    },
    {
      "cell_type": "code",
      "metadata": {
        "id": "wVFyBqc70o6h",
        "colab_type": "code",
        "colab": {
          "base_uri": "https://localhost:8080/",
          "height": 50
        },
        "outputId": "69f9fc8d-6f3d-4d10-b2de-a53b3bfe2679"
      },
      "source": [
        "np.unique(groups.target)"
      ],
      "execution_count": 9,
      "outputs": [
        {
          "output_type": "execute_result",
          "data": {
            "text/plain": [
              "array([ 0,  1,  2,  3,  4,  5,  6,  7,  8,  9, 10, 11, 12, 13, 14, 15, 16,\n",
              "       17, 18, 19])"
            ]
          },
          "metadata": {
            "tags": []
          },
          "execution_count": 9
        }
      ]
    },
    {
      "cell_type": "markdown",
      "metadata": {
        "id": "WnAcwIUO0573",
        "colab_type": "text"
      },
      "source": [
        "**The range from 0-19 represents the 20 topics**"
      ]
    },
    {
      "cell_type": "code",
      "metadata": {
        "id": "3FAlnlyh04g4",
        "colab_type": "code",
        "colab": {
          "base_uri": "https://localhost:8080/",
          "height": 54
        },
        "outputId": "c6bf9ad2-f77b-46e8-9488-d2147e86fa25"
      },
      "source": [
        "groups.data[0]"
      ],
      "execution_count": 10,
      "outputs": [
        {
          "output_type": "execute_result",
          "data": {
            "text/plain": [
              "\"From: lerxst@wam.umd.edu (where's my thing)\\nSubject: WHAT car is this!?\\nNntp-Posting-Host: rac3.wam.umd.edu\\nOrganization: University of Maryland, College Park\\nLines: 15\\n\\n I was wondering if anyone out there could enlighten me on this car I saw\\nthe other day. It was a 2-door sports car, looked to be from the late 60s/\\nearly 70s. It was called a Bricklin. The doors were really small. In addition,\\nthe front bumper was separate from the rest of the body. This is \\nall I know. If anyone can tellme a model name, engine specs, years\\nof production, where this car is made, history, or whatever info you\\nhave on this funky looking car, please e-mail.\\n\\nThanks,\\n- IL\\n   ---- brought to you by your neighborhood Lerxst ----\\n\\n\\n\\n\\n\""
            ]
          },
          "metadata": {
            "tags": []
          },
          "execution_count": 10
        }
      ]
    },
    {
      "cell_type": "code",
      "metadata": {
        "id": "QTd2Xy9a1JLP",
        "colab_type": "code",
        "colab": {
          "base_uri": "https://localhost:8080/",
          "height": 34
        },
        "outputId": "b73888d0-e93a-455a-a725-77aecf026ca4"
      },
      "source": [
        "groups.target[0]"
      ],
      "execution_count": 11,
      "outputs": [
        {
          "output_type": "execute_result",
          "data": {
            "text/plain": [
              "7"
            ]
          },
          "metadata": {
            "tags": []
          },
          "execution_count": 11
        }
      ]
    },
    {
      "cell_type": "code",
      "metadata": {
        "id": "fv2UhMLJ1NVK",
        "colab_type": "code",
        "colab": {
          "base_uri": "https://localhost:8080/",
          "height": 34
        },
        "outputId": "f564e1ef-ebb1-408c-8619-651b1603714f"
      },
      "source": [
        "groups.target_names[groups.target[0]]"
      ],
      "execution_count": 12,
      "outputs": [
        {
          "output_type": "execute_result",
          "data": {
            "text/plain": [
              "'rec.autos'"
            ]
          },
          "metadata": {
            "tags": []
          },
          "execution_count": 12
        }
      ]
    },
    {
      "cell_type": "code",
      "metadata": {
        "id": "7mJto-Y81U70",
        "colab_type": "code",
        "colab": {
          "base_uri": "https://localhost:8080/",
          "height": 34
        },
        "outputId": "2495d342-9dde-4746-a78b-7f4fac7623e6"
      },
      "source": [
        "len(groups.data[0])"
      ],
      "execution_count": 13,
      "outputs": [
        {
          "output_type": "execute_result",
          "data": {
            "text/plain": [
              "721"
            ]
          },
          "metadata": {
            "tags": []
          },
          "execution_count": 13
        }
      ]
    },
    {
      "cell_type": "code",
      "metadata": {
        "id": "NPmdrn2y1qNI",
        "colab_type": "code",
        "colab": {
          "base_uri": "https://localhost:8080/",
          "height": 34
        },
        "outputId": "8468649b-b9bb-484f-dfdb-2ad754d3d95b"
      },
      "source": [
        "len(groups.data[1])"
      ],
      "execution_count": 14,
      "outputs": [
        {
          "output_type": "execute_result",
          "data": {
            "text/plain": [
              "858"
            ]
          },
          "metadata": {
            "tags": []
          },
          "execution_count": 14
        }
      ]
    },
    {
      "cell_type": "markdown",
      "metadata": {
        "id": "CmeVZJ8M16kU",
        "colab_type": "text"
      },
      "source": [
        "## **Visualization**"
      ]
    },
    {
      "cell_type": "code",
      "metadata": {
        "id": "qCQGRqes1s1L",
        "colab_type": "code",
        "colab": {
          "base_uri": "https://localhost:8080/",
          "height": 70
        },
        "outputId": "f3eec2ca-ff5b-4a0e-e415-0062e6d91c4b"
      },
      "source": [
        "import seaborn as sns"
      ],
      "execution_count": 15,
      "outputs": [
        {
          "output_type": "stream",
          "text": [
            "/usr/local/lib/python3.6/dist-packages/statsmodels/tools/_testing.py:19: FutureWarning: pandas.util.testing is deprecated. Use the functions in the public API at pandas.testing instead.\n",
            "  import pandas.util.testing as tm\n"
          ],
          "name": "stderr"
        }
      ]
    },
    {
      "cell_type": "code",
      "metadata": {
        "id": "209aRQED2DMQ",
        "colab_type": "code",
        "colab": {
          "base_uri": "https://localhost:8080/",
          "height": 285
        },
        "outputId": "1bf7a5f6-b4de-4536-c447-714b8fff287d"
      },
      "source": [
        "sns.distplot(groups.target)"
      ],
      "execution_count": 16,
      "outputs": [
        {
          "output_type": "execute_result",
          "data": {
            "text/plain": [
              "<matplotlib.axes._subplots.AxesSubplot at 0x7fb2b68efb00>"
            ]
          },
          "metadata": {
            "tags": []
          },
          "execution_count": 16
        },
        {
          "output_type": "display_data",
          "data": {
            "image/png": "[encoded data removed]",
            "text/plain": [
              "<Figure size 432x288 with 1 Axes>"
            ]
          },
          "metadata": {
            "tags": [],
            "needs_background": "light"
          }
        }
      ]
    },
    {
      "cell_type": "code",
      "metadata": {
        "id": "fQvORt3X2VdA",
        "colab_type": "code",
        "colab": {}
      },
      "source": [
        "from sklearn.feature_extraction.text import CountVectorizer"
      ],
      "execution_count": 0,
      "outputs": []
    },
    {
      "cell_type": "code",
      "metadata": {
        "id": "Z8-buCwz2qs8",
        "colab_type": "code",
        "colab": {}
      },
      "source": [
        "import matplotlib.pyplot as plt\n",
        "import seaborn as sns"
      ],
      "execution_count": 0,
      "outputs": []
    },
    {
      "cell_type": "code",
      "metadata": {
        "id": "Nk0sgCAk2xlo",
        "colab_type": "code",
        "colab": {}
      },
      "source": [
        "from sklearn.datasets import fetch_20newsgroups "
      ],
      "execution_count": 0,
      "outputs": []
    },
    {
      "cell_type": "code",
      "metadata": {
        "id": "DAR9grau23fF",
        "colab_type": "code",
        "colab": {
          "base_uri": "https://localhost:8080/",
          "height": 54
        },
        "outputId": "37f27af0-50c9-4b32-9374-e27fb3bde559"
      },
      "source": [
        "cv = CountVectorizer(stop_words='english',max_features=500)\n",
        "groups = fetch_20newsgroups()\n",
        "transformed = cv.fit_transform(groups.data)\n",
        "print(cv.get_feature_names())"
      ],
      "execution_count": 24,
      "outputs": [
        {
          "output_type": "stream",
          "text": [
            "['00', '000', '0d', '0t', '10', '100', '11', '12', '13', '14', '145', '15', '16', '17', '18', '19', '1993', '1d9', '20', '21', '22', '23', '24', '25', '26', '27', '28', '29', '30', '31', '32', '33', '34', '34u', '35', '40', '45', '50', '55', '80', '92', '93', '__', '___', 'a86', 'able', 'ac', 'access', 'actually', 'address', 'ago', 'agree', 'al', 'american', 'andrew', 'answer', 'anybody', 'apple', 'application', 'apr', 'april', 'area', 'argument', 'armenian', 'armenians', 'article', 'ask', 'asked', 'att', 'au', 'available', 'away', 'ax', 'b8f', 'bad', 'based', 'believe', 'berkeley', 'best', 'better', 'bible', 'big', 'bike', 'bit', 'black', 'board', 'body', 'book', 'box', 'buy', 'ca', 'california', 'called', 'came', 'canada', 'car', 'card', 'care', 'case', 'cause', 'cc', 'center', 'certain', 'certainly', 'change', 'check', 'children', 'chip', 'christ', 'christian', 'christians', 'church', 'city', 'claim', 'clinton', 'clipper', 'cmu', 'code', 'college', 'color', 'colorado', 'columbia', 'com', 'come', 'comes', 'company', 'computer', 'consider', 'contact', 'control', 'copy', 'correct', 'cost', 'country', 'couple', 'course', 'cs', 'current', 'cwru', 'data', 'dave', 'david', 'day', 'days', 'db', 'deal', 'death', 'department', 'dept', 'did', 'didn', 'difference', 'different', 'disk', 'display', 'distribution', 'division', 'dod', 'does', 'doesn', 'doing', 'don', 'dos', 'drive', 'driver', 'drivers', 'earth', 'edu', 'email', 'encryption', 'end', 'engineering', 'especially', 'evidence', 'exactly', 'example', 'experience', 'fact', 'faith', 'faq', 'far', 'fast', 'fax', 'feel', 'file', 'files', 'following', 'free', 'ftp', 'g9v', 'game', 'games', 'general', 'getting', 'given', 'gmt', 'god', 'going', 'good', 'got', 'gov', 'government', 'graphics', 'great', 'group', 'groups', 'guess', 'gun', 'guns', 'hand', 'hard', 'hardware', 'having', 'health', 'heard', 'hell', 'help', 'hi', 'high', 'history', 'hockey', 'home', 'hope', 'host', 'house', 'hp', 'human', 'ibm', 'idea', 'image', 'important', 'include', 'including', 'info', 'information', 'instead', 'institute', 'interested', 'internet', 'isn', 'israel', 'israeli', 'issue', 'james', 'jesus', 'jewish', 'jews', 'jim', 'john', 'just', 'keith', 'key', 'keys', 'keywords', 'kind', 'know', 'known', 'large', 'later', 'law', 'left', 'let', 'level', 'life', 'like', 'likely', 'line', 'lines', 'list', 'little', 'live', 'll', 'local', 'long', 'look', 'looking', 'lot', 'love', 'low', 'ma', 'mac', 'machine', 'mail', 'major', 'make', 'makes', 'making', 'man', 'mark', 'matter', 'max', 'maybe', 'mean', 'means', 'memory', 'men', 'message', 'michael', 'mike', 'mind', 'mit', 'money', 'mr', 'ms', 'na', 'nasa', 'national', 'need', 'net', 'netcom', 'network', 'new', 'news', 'newsreader', 'nice', 'nntp', 'non', 'note', 'number', 'numbers', 'office', 'oh', 'ohio', 'old', 'open', 'opinions', 'order', 'org', 'organization', 'original', 'output', 'package', 'paul', 'pay', 'pc', 'people', 'period', 'person', 'phone', 'pitt', 'pl', 'place', 'play', 'players', 'point', 'points', 'police', 'possible', 'post', 'posting', 'power', 'president', 'press', 'pretty', 'price', 'private', 'probably', 'problem', 'problems', 'program', 'programs', 'provide', 'pub', 'public', 'question', 'questions', 'quite', 'read', 'reading', 'real', 'really', 'reason', 'religion', 'remember', 'reply', 'research', 'right', 'rights', 'robert', 'run', 'running', 'said', 'sale', 'san', 'saw', 'say', 'saying', 'says', 'school', 'science', 'screen', 'scsi', 'season', 'second', 'security', 'seen', 'send', 'sense', 'server', 'service', 'services', 'set', 'similar', 'simple', 'simply', 'single', 'size', 'small', 'software', 'sorry', 'sort', 'sound', 'source', 'space', 'speed', 'st', 'standard', 'start', 'started', 'state', 'states', 'steve', 'stop', 'stuff', 'subject', 'summary', 'sun', 'support', 'sure', 'systems', 'talk', 'talking', 'team', 'technology', 'tell', 'test', 'text', 'thanks', 'thing', 'things', 'think', 'thought', 'time', 'times', 'today', 'told', 'took', 'toronto', 'tried', 'true', 'truth', 'try', 'trying', 'turkish', 'type', 'uiuc', 'uk', 'understand', 'university', 'unix', 'unless', 'usa', 'use', 'used', 'user', 'using', 'usually', 'uucp', 've', 'version', 'video', 'view', 'virginia', 'vs', 'want', 'wanted', 'war', 'washington', 'way', 'went', 'white', 'win', 'window', 'windows', 'won', 'word', 'words', 'work', 'working', 'works', 'world', 'wouldn', 'write', 'writes', 'wrong', 'wrote', 'year', 'years', 'yes', 'york']\n"
          ],
          "name": "stdout"
        }
      ]
    },
    {
      "cell_type": "code",
      "metadata": {
        "id": "NGMUzhku3Afn",
        "colab_type": "code",
        "colab": {
          "base_uri": "https://localhost:8080/",
          "height": 295
        },
        "outputId": "993fe7da-fc12-4e4e-c46b-c9b55e469044"
      },
      "source": [
        "sns.distplot(np.log(transformed.toarray().sum(axis=0)))\n",
        "plt.xlabel('Log Count')\n",
        "plt.ylabel('Frequency')\n",
        "plt.title('Distribution plot of 500 word counts')\n",
        "plt.show()"
      ],
      "execution_count": 25,
      "outputs": [
        {
          "output_type": "display_data",
          "data": {
            "image/png": "[encoded data removed]",
            "text/plain": [
              "<Figure size 432x288 with 1 Axes>"
            ]
          },
          "metadata": {
            "tags": [],
            "needs_background": "light"
          }
        }
      ]
    },
    {
      "cell_type": "markdown",
      "metadata": {
        "id": "2iVTRuE74L_Y",
        "colab_type": "text"
      },
      "source": [
        "## **Data Preprocessing**"
      ]
    },
    {
      "cell_type": "code",
      "metadata": {
        "id": "TSmmIpLT3u-K",
        "colab_type": "code",
        "colab": {}
      },
      "source": [
        "from nltk.corpus import names\n",
        "from nltk.stem import WordNetLemmatizer"
      ],
      "execution_count": 0,
      "outputs": []
    },
    {
      "cell_type": "code",
      "metadata": {
        "id": "GliApIs44e36",
        "colab_type": "code",
        "colab": {}
      },
      "source": [
        "def letters_only(astr) :\n",
        "  return astr.isalpha()"
      ],
      "execution_count": 0,
      "outputs": []
    },
    {
      "cell_type": "code",
      "metadata": {
        "id": "-rC1ov3L4nbW",
        "colab_type": "code",
        "colab": {}
      },
      "source": [
        "cv = CountVectorizer(stop_words='english',max_features=500)\n",
        "groups = fetch_20newsgroups()\n"
      ],
      "execution_count": 0,
      "outputs": []
    },
    {
      "cell_type": "code",
      "metadata": {
        "id": "rQ8xXh7f43U3",
        "colab_type": "code",
        "colab": {
          "base_uri": "https://localhost:8080/",
          "height": 50
        },
        "outputId": "475e360a-a6cc-42f4-e4f3-2ed16bc12dc7"
      },
      "source": [
        "import nltk\n",
        "nltk.download('names')\n",
        "cleaned=[]\n",
        "all_names = set(names.words())\n",
        "lemmatizer = WordNetLemmatizer()"
      ],
      "execution_count": 31,
      "outputs": [
        {
          "output_type": "stream",
          "text": [
            "[nltk_data] Downloading package names to /root/nltk_data...\n",
            "[nltk_data]   Unzipping corpora/names.zip.\n"
          ],
          "name": "stdout"
        }
      ]
    },
    {
      "cell_type": "code",
      "metadata": {
        "id": "aIruIsL-5J1W",
        "colab_type": "code",
        "colab": {
          "base_uri": "https://localhost:8080/",
          "height": 50
        },
        "outputId": "b2278236-817f-4c93-dc03-aad0eb91247b"
      },
      "source": [
        "import nltk\n",
        "nltk.download('wordnet')\n",
        "for post in groups.data:\n",
        "    for word in post.split():\n",
        "        if letters_only(word) and word not in all_names:\n",
        "            cleaned.append(' '.join([lemmatizer.lemmatize(word.lower())]))"
      ],
      "execution_count": 45,
      "outputs": [
        {
          "output_type": "stream",
          "text": [
            "[nltk_data] Downloading package wordnet to /root/nltk_data...\n",
            "[nltk_data]   Package wordnet is already up-to-date!\n"
          ],
          "name": "stdout"
        }
      ]
    },
    {
      "cell_type": "code",
      "metadata": {
        "id": "V8rCnK2u6BDs",
        "colab_type": "code",
        "colab": {
          "base_uri": "https://localhost:8080/",
          "height": 54
        },
        "outputId": "5f981bfc-4d33-49c0-ee3f-dc683ac39104"
      },
      "source": [
        "transformed = cv.fit_transform(cleaned)\n",
        "print(cv.get_feature_names())"
      ],
      "execution_count": 46,
      "outputs": [
        {
          "output_type": "stream",
          "text": [
            "['able', 'accept', 'access', 'according', 'act', 'action', 'actually', 'add', 'address', 'ago', 'agree', 'algorithm', 'allow', 'american', 'anonymous', 'answer', 'anybody', 'apple', 'application', 'apr', 'arab', 'area', 'argument', 'armenian', 'article', 'ask', 'asked', 'assume', 'atheist', 'attack', 'attempt', 'available', 'away', 'bad', 'based', 'basic', 'belief', 'believe', 'best', 'better', 'bible', 'big', 'bike', 'bit', 'black', 'board', 'body', 'book', 'box', 'build', 'bus', 'business', 'buy', 'ca', 'california', 'called', 'came', 'car', 'card', 'care', 'carry', 'case', 'cause', 'center', 'certain', 'certainly', 'chance', 'change', 'check', 'child', 'chip', 'christian', 'church', 'city', 'claim', 'clear', 'clipper', 'code', 'college', 'color', 'come', 'coming', 'command', 'comment', 'common', 'communication', 'company', 'computer', 'computing', 'consider', 'considered', 'contact', 'control', 'controller', 'copy', 'correct', 'cost', 'country', 'couple', 'course', 'cover', 'create', 'crime', 'current', 'cut', 'data', 'day', 'db', 'deal', 'death', 'department', 'design', 'device', 'did', 'difference', 'different', 'discussion', 'disk', 'display', 'division', 'dod', 'doe', 'doing', 'drive', 'driver', 'drug', 'early', 'earth', 'easy', 'effect', 'email', 'encryption', 'end', 'engineering', 'entry', 'error', 'especially', 'event', 'evidence', 'exactly', 'example', 'expect', 'experience', 'explain', 'face', 'fact', 'faq', 'far', 'fast', 'federal', 'feel', 'figure', 'file', 'final', 'following', 'food', 'force', 'form', 'free', 'friend', 'ftp', 'function', 'game', 'general', 'getting', 'given', 'gmt', 'goal', 'god', 'going', 'good', 'got', 'government', 'graphic', 'great', 'greek', 'ground', 'group', 'guess', 'gun', 'guy', 'ha', 'hand', 'hard', 'hardware', 'having', 'head', 'health', 'hear', 'heard', 'hell', 'help', 'high', 'history', 'hit', 'hockey', 'hold', 'home', 'hope', 'house', 'human', 'ibm', 'idea', 'image', 'important', 'include', 'includes', 'including', 'individual', 'info', 'information', 'instead', 'institute', 'interested', 'interesting', 'international', 'internet', 'israeli', 'issue', 'jew', 'jewish', 'job', 'just', 'key', 'kill', 'killed', 'kind', 'know', 'known', 'la', 'large', 'later', 'law', 'le', 'lead', 'league', 'left', 'let', 'level', 'life', 'light', 'like', 'likely', 'line', 'list', 'little', 'live', 'local', 'long', 'longer', 'look', 'looking', 'lost', 'lot', 'love', 'low', 'machine', 'mail', 'main', 'major', 'make', 'making', 'man', 'manager', 'matter', 'maybe', 'mean', 'medical', 'member', 'memory', 'men', 'message', 'method', 'military', 'million', 'mind', 'mode', 'model', 'money', 'monitor', 'month', 'moral', 'mouse', 'muslim', 'na', 'nasa', 'national', 'near', 'need', 'needed', 'network', 'new', 'news', 'nice', 'north', 'note', 'number', 'offer', 'office', 'old', 'open', 'opinion', 'order', 'original', 'output', 'package', 'particular', 'past', 'pay', 'pc', 'people', 'period', 'person', 'personal', 'phone', 'place', 'play', 'player', 'point', 'police', 'policy', 'political', 'position', 'possible', 'post', 'posted', 'posting', 'power', 'president', 'press', 'pretty', 'previous', 'price', 'private', 'probably', 'problem', 'product', 'program', 'project', 'provide', 'public', 'purpose', 'question', 'quite', 'radio', 'rate', 'read', 'reading', 'real', 'really', 'reason', 'recently', 'reference', 'religion', 'religious', 'remember', 'reply', 'report', 'research', 'response', 'rest', 'result', 'return', 'right', 'road', 'rule', 'run', 'running', 'russian', 'said', 'sale', 'san', 'save', 'saw', 'say', 'saying', 'school', 'science', 'screen', 'scsi', 'second', 'section', 'security', 'seen', 'sell', 'send', 'sense', 'sent', 'serial', 'server', 'service', 'set', 'shall', 'short', 'shot', 'similar', 'simple', 'simply', 'single', 'site', 'situation', 'size', 'small', 'software', 'sort', 'sound', 'source', 'space', 'special', 'specific', 'speed', 'standard', 'start', 'started', 'state', 'statement', 'stop', 'strong', 'study', 'stuff', 'subject', 'sun', 'support', 'sure', 'taken', 'taking', 'talk', 'talking', 'tape', 'tax', 'team', 'technical', 'technology', 'tell', 'term', 'test', 'texas', 'text', 'thanks', 'thing', 'think', 'thinking', 'thought', 'time', 'tin', 'today', 'told', 'took', 'total', 'tried', 'true', 'truth', 'try', 'trying', 'turkish', 'turn', 'type', 'understand', 'unit', 'united', 'university', 'unix', 'unless', 'usa', 'use', 'used', 'user', 'using', 'usually', 'value', 'various', 'version', 'video', 'view', 'wa', 'want', 'wanted', 'war', 'water', 'way', 'weapon', 'week', 'went', 'western', 'white', 'widget', 'willing', 'win', 'window', 'woman', 'word', 'work', 'working', 'world', 'write', 'written', 'wrong', 'year', 'york', 'young']\n"
          ],
          "name": "stdout"
        }
      ]
    },
    {
      "cell_type": "markdown",
      "metadata": {
        "id": "ot_g0Cgg7evQ",
        "colab_type": "text"
      },
      "source": [
        "### **Clustering**"
      ]
    },
    {
      "cell_type": "code",
      "metadata": {
        "id": "BWNzKE8z7YHm",
        "colab_type": "code",
        "colab": {
          "base_uri": "https://localhost:8080/",
          "height": 50
        },
        "outputId": "d7071b08-bdfa-407d-d0d0-620bcbdfe47f"
      },
      "source": [
        "from nltk.corpus import names\n",
        "from nltk.stem import WordNetLemmatizer\n",
        "import nltk\n",
        "nltk.download('names')\n",
        "from sklearn.feature_extraction.text import CountVectorizer\n",
        "from sklearn.datasets import fetch_20newsgroups \n",
        "import matplotlib.pyplot as plt\n",
        "import seaborn as sns\n",
        "from sklearn.cluster import KMeans\n",
        "\n"
      ],
      "execution_count": 47,
      "outputs": [
        {
          "output_type": "stream",
          "text": [
            "[nltk_data] Downloading package names to /root/nltk_data...\n",
            "[nltk_data]   Package names is already up-to-date!\n"
          ],
          "name": "stdout"
        }
      ]
    },
    {
      "cell_type": "code",
      "metadata": {
        "id": "MMW2OkAJ8VRI",
        "colab_type": "code",
        "colab": {}
      },
      "source": [
        "def letters_only(astr) :\n",
        "  return astr.isalpha()\n",
        "cv = CountVectorizer(stop_words='english',max_features=500)\n",
        "groups = fetch_20newsgroups()\n"
      ],
      "execution_count": 0,
      "outputs": []
    },
    {
      "cell_type": "code",
      "metadata": {
        "id": "3tFfEfnX8eOR",
        "colab_type": "code",
        "colab": {
          "base_uri": "https://localhost:8080/",
          "height": 50
        },
        "outputId": "10a73064-3995-4149-b557-720f980455d4"
      },
      "source": [
        "import nltk\n",
        "nltk.download('names')\n",
        "cleaned=[]\n",
        "all_names = set(names.words())\n",
        "lemmatizer = WordNetLemmatizer()"
      ],
      "execution_count": 49,
      "outputs": [
        {
          "output_type": "stream",
          "text": [
            "[nltk_data] Downloading package names to /root/nltk_data...\n",
            "[nltk_data]   Package names is already up-to-date!\n"
          ],
          "name": "stdout"
        }
      ]
    },
    {
      "cell_type": "code",
      "metadata": {
        "id": "XHENXn6N8k0A",
        "colab_type": "code",
        "colab": {
          "base_uri": "https://localhost:8080/",
          "height": 50
        },
        "outputId": "09ddd4e6-846e-4c29-bec1-4d8775e88b8d"
      },
      "source": [
        "import nltk\n",
        "nltk.download('wordnet')\n",
        "for post in groups.data:\n",
        "    for word in post.split():\n",
        "        if letters_only(word) and word not in all_names:\n",
        "            cleaned.append(' '.join([lemmatizer.lemmatize(word.lower())]))"
      ],
      "execution_count": 50,
      "outputs": [
        {
          "output_type": "stream",
          "text": [
            "[nltk_data] Downloading package wordnet to /root/nltk_data...\n",
            "[nltk_data]   Package wordnet is already up-to-date!\n"
          ],
          "name": "stdout"
        }
      ]
    },
    {
      "cell_type": "code",
      "metadata": {
        "id": "xPeIpXXg8r8b",
        "colab_type": "code",
        "colab": {
          "base_uri": "https://localhost:8080/",
          "height": 67
        },
        "outputId": "01a2bd61-a0f6-4722-ccbd-e66e726cd719"
      },
      "source": [
        "number_of_clusters = 20\n",
        "transformed = cv.fit_transform(cleaned)\n",
        "kmmodel = KMeans(n_clusters=number_of_clusters)\n",
        "kmmodel.fit(transformed)\n"
      ],
      "execution_count": 60,
      "outputs": [
        {
          "output_type": "execute_result",
          "data": {
            "text/plain": [
              "KMeans(algorithm='auto', copy_x=True, init='k-means++', max_iter=300,\n",
              "       n_clusters=20, n_init=10, n_jobs=None, precompute_distances='auto',\n",
              "       random_state=None, tol=0.0001, verbose=0)"
            ]
          },
          "metadata": {
            "tags": []
          },
          "execution_count": 60
        }
      ]
    },
    {
      "cell_type": "code",
      "metadata": {
        "id": "7DGPB4H29MNF",
        "colab_type": "code",
        "colab": {}
      },
      "source": [
        "order_centroids = kmmodel.cluster_centers_.argsort()[:, ::-1]\n",
        "terms = cv.get_feature_names()"
      ],
      "execution_count": 0,
      "outputs": []
    },
    {
      "cell_type": "code",
      "metadata": {
        "id": "FCQ0v5zhBDhE",
        "colab_type": "code",
        "colab": {
          "base_uri": "https://localhost:8080/",
          "height": 1000
        },
        "outputId": "4e6c9a13-f336-4eb9-c6b7-7e938f40b8df"
      },
      "source": [
        "for i in range(number_of_clusters):\n",
        "    print(\"Cluster %d:\" % i),\n",
        "    for ind in order_centroids[i, :10]:\n",
        "        print(' %s' % terms[ind])\n",
        "        plt.show()"
      ],
      "execution_count": 90,
      "outputs": [
        {
          "output_type": "stream",
          "text": [
            "Cluster 0:\n",
            " know\n",
            " think\n",
            " use\n",
            " new\n",
            " make\n",
            " good\n",
            " need\n",
            " thing\n",
            " way\n",
            " problem\n",
            "Cluster 1:\n",
            " ha\n",
            " young\n",
            " good\n",
            " form\n",
            " free\n",
            " friend\n",
            " ftp\n",
            " function\n",
            " game\n",
            " general\n",
            "Cluster 2:\n",
            " article\n",
            " young\n",
            " force\n",
            " free\n",
            " friend\n",
            " ftp\n",
            " function\n",
            " game\n",
            " general\n",
            " getting\n",
            "Cluster 3:\n",
            " university\n",
            " young\n",
            " good\n",
            " free\n",
            " friend\n",
            " ftp\n",
            " function\n",
            " game\n",
            " general\n",
            " getting\n",
            "Cluster 4:\n",
            " kind\n",
            " young\n",
            " food\n",
            " form\n",
            " free\n",
            " friend\n",
            " ftp\n",
            " function\n",
            " game\n",
            " general\n",
            "Cluster 5:\n",
            " read\n",
            " young\n",
            " going\n",
            " form\n",
            " free\n",
            " friend\n",
            " ftp\n",
            " function\n",
            " game\n",
            " general\n",
            "Cluster 6:\n",
            " time\n",
            " young\n",
            " got\n",
            " free\n",
            " friend\n",
            " ftp\n",
            " function\n",
            " game\n",
            " general\n",
            " getting\n",
            "Cluster 7:\n",
            " right\n",
            " young\n",
            " good\n",
            " form\n",
            " free\n",
            " friend\n",
            " ftp\n",
            " function\n",
            " game\n",
            " general\n",
            "Cluster 8:\n",
            " want\n",
            " young\n",
            " food\n",
            " form\n",
            " free\n",
            " friend\n",
            " ftp\n",
            " function\n",
            " game\n",
            " general\n",
            "Cluster 9:\n",
            " window\n",
            " young\n",
            " good\n",
            " form\n",
            " free\n",
            " friend\n",
            " ftp\n",
            " function\n",
            " game\n",
            " general\n",
            "Cluster 10:\n",
            " say\n",
            " going\n",
            " force\n",
            " form\n",
            " free\n",
            " friend\n",
            " ftp\n",
            " function\n",
            " game\n",
            " general\n",
            "Cluster 11:\n",
            " mean\n",
            " young\n",
            " food\n",
            " form\n",
            " free\n",
            " friend\n",
            " ftp\n",
            " function\n",
            " game\n",
            " general\n",
            "Cluster 12:\n",
            " help\n",
            " young\n",
            " got\n",
            " free\n",
            " friend\n",
            " ftp\n",
            " function\n",
            " game\n",
            " general\n",
            " getting\n",
            "Cluster 13:\n",
            " wa\n",
            " young\n",
            " food\n",
            " form\n",
            " free\n",
            " friend\n",
            " ftp\n",
            " function\n",
            " game\n",
            " general\n",
            "Cluster 14:\n",
            " got\n",
            " good\n",
            " form\n",
            " free\n",
            " friend\n",
            " ftp\n",
            " function\n",
            " game\n",
            " general\n",
            " getting\n",
            "Cluster 15:\n",
            " just\n",
            " young\n",
            " food\n",
            " form\n",
            " free\n",
            " friend\n",
            " ftp\n",
            " function\n",
            " game\n",
            " general\n",
            "Cluster 16:\n",
            " people\n",
            " young\n",
            " got\n",
            " free\n",
            " friend\n",
            " ftp\n",
            " function\n",
            " game\n",
            " general\n",
            " getting\n",
            "Cluster 17:\n",
            " doe\n",
            " young\n",
            " got\n",
            " free\n",
            " friend\n",
            " ftp\n",
            " function\n",
            " game\n",
            " general\n",
            " getting\n",
            "Cluster 18:\n",
            " like\n",
            " young\n",
            " good\n",
            " form\n",
            " free\n",
            " friend\n",
            " ftp\n",
            " function\n",
            " game\n",
            " general\n",
            "Cluster 19:\n",
            " used\n",
            " young\n",
            " good\n",
            " free\n",
            " friend\n",
            " ftp\n",
            " function\n",
            " game\n",
            " general\n",
            " getting\n"
          ],
          "name": "stdout"
        }
      ]
    },
    {
      "cell_type": "markdown",
      "metadata": {
        "id": "8uqotUXzS1zo",
        "colab_type": "text"
      },
      "source": [
        "### **Topic modelling using non-negative matrix factorization(NMF)**"
      ]
    },
    {
      "cell_type": "code",
      "metadata": {
        "id": "TugR2QJWIwMI",
        "colab_type": "code",
        "colab": {
          "base_uri": "https://localhost:8080/",
          "height": 50
        },
        "outputId": "5d978acb-95f3-4361-f0ac-2b9a4e8ed0bf"
      },
      "source": [
        "from nltk.corpus import names\n",
        "from nltk.stem import WordNetLemmatizer\n",
        "import nltk\n",
        "nltk.download('names')\n",
        "from sklearn.feature_extraction.text import CountVectorizer\n",
        "from sklearn.datasets import fetch_20newsgroups \n",
        "import matplotlib.pyplot as plt\n",
        "import seaborn as sns\n",
        "from sklearn.cluster import KMeans\n",
        "from sklearn.decomposition import NMF"
      ],
      "execution_count": 91,
      "outputs": [
        {
          "output_type": "stream",
          "text": [
            "[nltk_data] Downloading package names to /root/nltk_data...\n",
            "[nltk_data]   Package names is already up-to-date!\n"
          ],
          "name": "stdout"
        }
      ]
    },
    {
      "cell_type": "code",
      "metadata": {
        "id": "B0yWQvjbLftU",
        "colab_type": "code",
        "colab": {}
      },
      "source": [
        "def letters_only(astr) :\n",
        "  return astr.isalpha()\n",
        "cv = CountVectorizer(stop_words='english',max_features=500)\n",
        "groups = fetch_20newsgroups()"
      ],
      "execution_count": 0,
      "outputs": []
    },
    {
      "cell_type": "code",
      "metadata": {
        "id": "2RThFnFrTRiZ",
        "colab_type": "code",
        "colab": {
          "base_uri": "https://localhost:8080/",
          "height": 50
        },
        "outputId": "53808fe0-ef99-42fc-f281-c0c18bf888a9"
      },
      "source": [
        "import nltk\n",
        "nltk.download('names')\n",
        "cleaned=[]\n",
        "all_names = set(names.words())\n",
        "lemmatizer = WordNetLemmatizer()"
      ],
      "execution_count": 93,
      "outputs": [
        {
          "output_type": "stream",
          "text": [
            "[nltk_data] Downloading package names to /root/nltk_data...\n",
            "[nltk_data]   Package names is already up-to-date!\n"
          ],
          "name": "stdout"
        }
      ]
    },
    {
      "cell_type": "code",
      "metadata": {
        "id": "KE0s2tMSTWRT",
        "colab_type": "code",
        "colab": {
          "base_uri": "https://localhost:8080/",
          "height": 50
        },
        "outputId": "1dd2177f-59a7-41ca-dad1-f98053bbe3aa"
      },
      "source": [
        "import nltk\n",
        "nltk.download('wordnet')\n",
        "for post in groups.data:\n",
        "    for word in post.split():\n",
        "        if letters_only(word) and word not in all_names:\n",
        "            cleaned.append(' '.join([lemmatizer.lemmatize(word.lower())]))"
      ],
      "execution_count": 94,
      "outputs": [
        {
          "output_type": "stream",
          "text": [
            "[nltk_data] Downloading package wordnet to /root/nltk_data...\n",
            "[nltk_data]   Package wordnet is already up-to-date!\n"
          ],
          "name": "stdout"
        }
      ]
    },
    {
      "cell_type": "code",
      "metadata": {
        "id": "tF3mCxOUT5mf",
        "colab_type": "code",
        "colab": {
          "base_uri": "https://localhost:8080/",
          "height": 84
        },
        "outputId": "76178179-d07a-4164-d223-29bee21fe6bd"
      },
      "source": [
        "pip install scikit-learn"
      ],
      "execution_count": 97,
      "outputs": [
        {
          "output_type": "stream",
          "text": [
            "Requirement already satisfied: scikit-learn in /usr/local/lib/python3.6/dist-packages (0.22.2.post1)\n",
            "Requirement already satisfied: numpy>=1.11.0 in /usr/local/lib/python3.6/dist-packages (from scikit-learn) (1.18.4)\n",
            "Requirement already satisfied: joblib>=0.11 in /usr/local/lib/python3.6/dist-packages (from scikit-learn) (0.15.1)\n",
            "Requirement already satisfied: scipy>=0.17.0 in /usr/local/lib/python3.6/dist-packages (from scikit-learn) (1.4.1)\n"
          ],
          "name": "stdout"
        }
      ]
    },
    {
      "cell_type": "code",
      "metadata": {
        "id": "3N1pkxnDTbqi",
        "colab_type": "code",
        "colab": {}
      },
      "source": [
        "transformed = cv.fit_transform(cleaned)"
      ],
      "execution_count": 0,
      "outputs": []
    },
    {
      "cell_type": "code",
      "metadata": {
        "id": "RNbdPVfXTrYK",
        "colab_type": "code",
        "colab": {}
      },
      "source": [
        "d=5  # num topics\n",
        "clf = NMF(n_components=d, random_state=1).fit(transformed)"
      ],
      "execution_count": 0,
      "outputs": []
    },
    {
      "cell_type": "code",
      "metadata": {
        "id": "J41CRUfpUoGz",
        "colab_type": "code",
        "colab": {
          "base_uri": "https://localhost:8080/",
          "height": 121
        },
        "outputId": "7c59a806-b984-4207-949d-781242da0edf"
      },
      "source": [
        "for topic_idex, topic in enumerate(clf.components_):\n",
        "  label = '{}: '.format(topic_idex)\n",
        "  print(label, \" \".join([cv.get_feature_names()[i]\n",
        "                         for i in topic.argsort()[::]]))"
      ],
      "execution_count": 122,
      "outputs": [
        {
          "output_type": "stream",
          "text": [
            "0:  able pretty press president power posting posted post possible position political policy police previous point play place phone personal person period people pc pay past particular package player output price probably result rest response research report reply remember religious religion reference recently reason private really reading read rate radio quite question purpose public provide project program product real return original opinion member medical mean maybe matter manager man making major main mail machine memory low lot lost looking look york long local live little list line likely love order men method open old office offer number note north nice news network needed near message national na muslim mouse moral month monitor money model mode mind million military nasa road rule run unit understand type turn turkish trying try truth true tried total took united told tin time thought thinking thanks text texas test term tell technology technical today team unix usa wrong written write world working word woman win willing widget white western unless went weapon water war wanted view video version various value usually user use week tax tape talking shot short shall set service server serial sent sense send sell seen similar security second scsi screen science school saying saw save san sale russian running section simple simply single talk taking taken sure support sun subject stuff study strong stop statement started start standard speed specific special space source sound sort software small size situation site like light longer level computing computer company communication common comment command coming color college code clipper consider clear city church christian chip child check change chance certainly certain center cause claim case considered control division display disk discussion life difference device design department death deal db contact day cut current crime create cover course couple country cost correct copy controller data dod carry card asked ask article armenian argument area arab apr application apple anybody answer assume anonymous allow algorithm agree ago address add actually action act according access accept american care atheist attempt car came called california ca buy business bus build box book body attack board bit bike big bible better best belief basic based bad away available black doing different driver include important image idea ibm human house hope home hold hockey hit history high help hell heard hear health head drive hardware hard hand ha guy gun includes guess including info let left league lead le law later large la known kind killed kill key just job jewish jew issue israeli internet international interesting interested institute instead information individual group having greek federal fast far ground fact face explain experience expect example exactly evidence event especially error entry engineering end encryption email effect easy earth early drug feel figure faq young given gmt general goal god going got game getting function friend government free graphic form force food following great ftp final said using believe come file state did window used problem year work way thing right need want say good new make doe think university know wa\n",
            "1:  able previous pretty press president power posting posted post possible position political policy police point player play place phone personal person period pc pay past particular price private probably problem road right return result rest response research report reply remember religious religion package reference reason real reading read rate radio quite purpose public provide project product recently output original order member medical maybe matter manager man making make major main mail machine memory low lot lost looking york long local live list line likely like light love rule men method opinion open old office offer note north nice news network needed near message national na muslim mouse moral month monitor money model mode mind million military nasa life run russian unless unix university united unit understand type turn turkish trying try truth true tried total took told today tin thought thinking thanks text texas test usa used user using year wrong written write working work word woman win willing widget white term western week weapon water war wanted wa view video version various value usually went technology technical tax shot short shall set service server serial sent sense send sell seen similar security second scsi screen science school saying say saw save san sale said section running simple single tape talking talk taking taken sun subject stuff study strong stop statement simply started standard speed specific special source sound sort software small size situation site start level longer left considered consider computing computer company communication common comment command coming color college contact code clear claim city church christian chip child check change chance certainly certain clipper center control copy driver drive doing doe dod division display disk different difference device design controller department deal db cut current crime create cover course couple country cost correct death cause case carry asked ask article armenian argument area arab apr application apple anybody answer assume anonymous allow algorithm agree ago address add actually action act according access accept american atheist attack attempt care card car came called california ca buy business bus build box book body board black bike big bible better believe belief basic based bad away available drug early discussion easy important image idea ibm human house hope home hold hockey hit history high help hell heard hear health head having earth hard hand guy guess include includes including individual league lead le law later large la known kind killed kill key group just jewish jew issue israeli internet international interesting interested institute instead information info job ground hardware great force food following final greek figure feel federal fast far faq fact face form explain expect example exactly evidence event especially error entry engineering end encryption email effect experience free young goal ftp function good general getting graphic given friend gmt gun team best let bit day game support little data sure tell space government got god mean program look question number going world window come really did file state thing way want need time new use think know people ha\n",
            "2:  able pretty press president power posting posted post possible position political policy police player play place phone personal person period people pc pay past particular package previous price private probably return result rest response research report reply remember religious religion reference recently output reason real reading read rate radio quite question purpose provide project product problem really original order opinion memory member medical maybe matter manager man making make major main mail men machine love lot lost looking york local live little list line likely like low road message military open old office offer number note north nice news network needed need method near nasa na muslim mouse moral month monitor money model mode mind million national rule running russian unix united unit understand type turn turkish trying try truth true tried unless total told today tin time thought thinking thing thanks text texas test term took tell usa user wrong written write working work word woman win willing widget white western use went weapon water war wanted want wa view video various value usually using week light technology team simply simple similar shot short shall service server serial sent sense send single sell security section second scsi screen science school saying saw save san sale seen technical site size tax tape talking talk taking taken sure support sun subject stuff study situation strong statement state started start standard speed specific special source sound sort small stop life longer young apr arab cut current crime create cover course couple country area db cost copy controller control contact considered consider computing computer company communication common correct comment deal department email effect easy earth early drug driver anonymous doing doe answer death dod anybody display disk level discussion different difference apple application device design division encryption argument coming buy business bus build box book body board black armenian bike ca big ask best asked belief basic based bad away assume available attempt bible command california came come color college code clipper clear claim city church christian chip called child change chance certainly certain center cause case carry care card car check attack end entry information info individual including includes include important image idea ibm human instead house home hold hockey hit history high actually hell heard add hear hope institute action interested left league lead le accept later large la access known according act kind killed kill key just job jewish jew issue israeli internet international interesting health engineering head hardware force food following final file figure feel federal fast far faq allow face explain american experience expect example exactly evidence event especially error form friend free function hard hand ha guy gun guess group ground greek great graphic ftp address good agree god goal gmt given getting general algorithm game ago atheist version having software fact let bit public long day set data law space better government help run drive got mean said point program look believe going window world did used year way right say new think university know article\n",
            "3:  longer possible position political policy police player play phone personal period people posted pc past particular package output original order opinion open old office offer pay posting president press rest response report reply remember religious religion reference recently reading read rate radio question purpose public provide project program product probably private price previous pretty number result note nice man making major main mail machine low love lost look york manager long live likely light level left league lead le law later large local matter maybe medical news new network needed need near national nasa na muslim mouse moral month monitor money model mode mind million military method message men memory member north la return road unless unix united unit understand type turn turkish trying truth true usa tried took told today tin time thought thinking think text texas test total use user usually year wrong written write world working woman window win willing widget white western went week weapon way water war wanted wa view video various value term right technology team similar shot short shall server serial sent sense sell seen security simple section scsi screen school saying saw save san sale russian running rule second simply single site tax tape talking talk taking taken support sun subject stuff study strong stop statement state started speed specific special space sound sort small size situation technical known young device disk away discussion different difference did know design department death deal db basic data cut belief crime believe create cover course display division dod available evidence buy especially error ask entry engineering asked encryption email couple effect assume earth early drug driver atheist attack attempt drive doing easy exactly country correct church christian chip check change chance certainly certain body center cause case carry care card box came build bus california ca city board clear clipper best copy controller control contact bible considered consider computing bike cost company common comment command coming come bit color college black code communication example event article including includes include important image algorithm idea ibm human house hope allow home hold hockey hit history american hell hear expect individual agree info ago killed kill key just job jewish jew issue accept israeli head according act international action actually add interesting interested institute instead address internet having health hard hardware ftp friend form force food following final area file arab figure federal argument fast far faq fact face armenian explain experience feel general function given hand ha guy anonymous guess answer ground greek anybody graphic business apr gmt got goal application apple going bad based child claim current free high standard big getting place heard kind source life end start access quite person word service book version real called looking send able great post list thanks research software reason gun science let line car try game power day little group set tell lot better help sure run information government point god mean said using computer really used work problem thing want say good make doe university like\n",
            "4:  longer posting posted position political policy police point player place phone personal president period pc pay past particular package output original opinion open old office people press pretty previous return result rest response report reply remember religious religion reference recently real reading rate radio question purpose public provide project program product probably private price offer right note nice major main mail machine low love lost looking look york long making local likely like light level let league lead le law later large live man manager matter news new network needed need near nasa na muslim mouse moral month monitor money model mode mind million military method message men memory member medical north la road run unless unix united unit understand turn turkish trying truth true tried user total told today tin thought thinking think thanks text texas test term took usually value various year wrong written write world working work woman window win willing widget white western went week weapon way water war wanted wa view video version technical rule tax talking similar shot short shall set server serial sent sense sell seen simple security scsi screen school saying say saw save san sale russian running section simply single site talk taking taken support sun subject stuff study strong stop statement state started start speed specific special space source sound sort software small size situation tape known young kind correct copy controller control contact considered consider computing computer company communication common comment command coming college clipper clear city church christian chip check change chance cost certainly country course earth early drug drive dod division display disk discussion different know did device design department death deal db day data cut current crime create cover couple easy certain cause assume asked ask article armenian argument area arab apr apple anybody answer anonymous allow algorithm agree ago address add actually action act according access accept atheist center attack away case carry care card came california ca buy business bus build box book body board black bit bike big bible better believe belief basic bad attempt effect difference guy hope going house ibm idea goal gmt given getting image important include function ftp friend includes free home got government hold hear having heard hardware hard hand hell ha form help guess history hit ground greek hockey great graphic gun health force including expect example exactly evidence event international internet especially israeli jew error jewish entry job key engineering kill killed encryption experience food explain face individual following final info information figure instead feel interesting federal far faq interested fact fast head color application play type institute email left based child general issue claim code driver possible high technology standard maybe doing order life human quite end word person national american service send called able research post second list line team reason science best car power try game available group tell little sure lot read usa mean god said number using file come really used problem thing want time good use make doe university just\n"
          ],
          "name": "stdout"
        }
      ]
    },
    {
      "cell_type": "code",
      "metadata": {
        "id": "8Gky53JZYB2R",
        "colab_type": "code",
        "colab": {}
      },
      "source": [
        ""
      ],
      "execution_count": 0,
      "outputs": []
    }
  ]
}